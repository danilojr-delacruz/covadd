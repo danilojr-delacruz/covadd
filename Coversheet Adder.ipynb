{
 "cells": [
  {
   "cell_type": "markdown",
   "id": "b4444fa2",
   "metadata": {},
   "source": [
    "# How to use Coversheet Adder"
   ]
  },
  {
   "cell_type": "code",
   "execution_count": null,
   "id": "017b66aa",
   "metadata": {},
   "outputs": [],
   "source": [
    "import covadd\n",
    "covadd = CoverSheetAdder(\n",
    "    cid=\"your_cid\",\n",
    "    module_code=\"your_module_code\",\n",
    "    number_of_questions=4,\n",
    "    input_dir=\"./Input\",\n",
    "    output_dir=\"./Output\"\n",
    ")"
   ]
  },
  {
   "cell_type": "code",
   "execution_count": null,
   "id": "b18034d3",
   "metadata": {},
   "outputs": [],
   "source": [
    "covadd.by_question()"
   ]
  },
  {
   "cell_type": "markdown",
   "id": "643386b6",
   "metadata": {},
   "source": [
    "## BE CAREFUL\n",
    "Only use when you're sure as this deletes files."
   ]
  },
  {
   "cell_type": "code",
   "execution_count": null,
   "id": "0856a38d",
   "metadata": {},
   "outputs": [],
   "source": [
    "covadd.clear_output_directory()"
   ]
  },
  {
   "cell_type": "code",
   "execution_count": null,
   "id": "1628fb9c",
   "metadata": {},
   "outputs": [],
   "source": [
    "covadd.clear_input_directory()"
   ]
  }
 ],
 "metadata": {
  "kernelspec": {
   "display_name": "Python 3 (ipykernel)",
   "language": "python",
   "name": "python3"
  },
  "language_info": {
   "codemirror_mode": {
    "name": "ipython",
    "version": 3
   },
   "file_extension": ".py",
   "mimetype": "text/x-python",
   "name": "python",
   "nbconvert_exporter": "python",
   "pygments_lexer": "ipython3",
   "version": "3.10.4"
  }
 },
 "nbformat": 4,
 "nbformat_minor": 5
}
