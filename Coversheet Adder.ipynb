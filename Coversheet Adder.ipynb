{
 "cells": [
  {
   "cell_type": "markdown",
   "id": "b4444fa2",
   "metadata": {},
   "source": [
    "# How to use Coversheet Adder"
   ]
  },
  {
   "cell_type": "code",
   "execution_count": 1,
   "id": "c3948abf",
   "metadata": {},
   "outputs": [],
   "source": [
    "from covadd import CoverSheetAdder, MODULES"
   ]
  },
  {
   "cell_type": "markdown",
   "id": "7db982bf",
   "metadata": {},
   "source": [
    "These are the supported modules. If you want to add more, change `MODULES` in the source code at `covadd.py`."
   ]
  },
  {
   "cell_type": "code",
   "execution_count": 2,
   "id": "56c2a01e",
   "metadata": {},
   "outputs": [
    {
     "data": {
      "text/plain": [
       "{'MATH60012': 'Mathematical Finance: An Introduction to Option Pricing',\n",
       " 'MATH60026': 'Methods for Data Science',\n",
       " 'MATH60031': 'Markov Processes',\n",
       " 'MATH60043': 'Statistical Theory',\n",
       " 'MATH60045': 'Applied Probability',\n",
       " 'MATH60046': 'Time Series Analysis',\n",
       " 'MATH60047': 'Stochastic Simulation',\n",
       " 'MATH60048': 'Survival Models'}"
      ]
     },
     "execution_count": 2,
     "metadata": {},
     "output_type": "execute_result"
    }
   ],
   "source": [
    "MODULES"
   ]
  },
  {
   "cell_type": "markdown",
   "id": "f028233b",
   "metadata": {},
   "source": [
    "Make sure there are folders `Input` and `Output` in the same directory as this notebook. Files in `Input` should be of the form `1.pdf`, `2.pdf` and so forth."
   ]
  },
  {
   "cell_type": "code",
   "execution_count": null,
   "id": "017b66aa",
   "metadata": {},
   "outputs": [],
   "source": [
    "covadd = CoverSheetAdder(\n",
    "    cid=\"your_cid\",\n",
    "    module_code=\"your_module_code\",\n",
    "    number_of_questions=4,\n",
    "    input_dir=\"./Input\",\n",
    "    output_dir=\"./Output\"\n",
    ")"
   ]
  },
  {
   "cell_type": "code",
   "execution_count": null,
   "id": "b18034d3",
   "metadata": {},
   "outputs": [],
   "source": [
    "covadd.by_question()"
   ]
  },
  {
   "cell_type": "markdown",
   "id": "643386b6",
   "metadata": {},
   "source": [
    "## Deleting Files: BE CAREFUL\n",
    "Only use when you're sure as this deletes files."
   ]
  },
  {
   "cell_type": "code",
   "execution_count": null,
   "id": "0856a38d",
   "metadata": {},
   "outputs": [],
   "source": [
    "covadd.clear_output_directory()"
   ]
  },
  {
   "cell_type": "code",
   "execution_count": null,
   "id": "1628fb9c",
   "metadata": {},
   "outputs": [],
   "source": [
    "covadd.clear_input_directory()"
   ]
  }
 ],
 "metadata": {
  "kernelspec": {
   "display_name": "Python 3 (ipykernel)",
   "language": "python",
   "name": "python3"
  },
  "language_info": {
   "codemirror_mode": {
    "name": "ipython",
    "version": 3
   },
   "file_extension": ".py",
   "mimetype": "text/x-python",
   "name": "python",
   "nbconvert_exporter": "python",
   "pygments_lexer": "ipython3",
   "version": "3.10.4"
  }
 },
 "nbformat": 4,
 "nbformat_minor": 5
}
